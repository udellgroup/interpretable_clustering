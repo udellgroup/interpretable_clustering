{
 "cells": [
  {
   "cell_type": "markdown",
   "metadata": {},
   "source": [
    "# Load Test Data"
   ]
  },
  {
   "cell_type": "code",
   "execution_count": 1,
   "metadata": {
    "collapsed": true
   },
   "outputs": [],
   "source": [
    "# sort values first - binary search \n",
    "# distance matrix - rather than for every pair (all-to-all shortest pathes )\n",
    "# try hashing data structures \n",
    "import numpy as np\n",
    "import pandas as pd\n",
    "import matplotlib.pyplot as plt\n",
    "#import seaborn as sns\n",
    "import scipy.stats as sc\n",
    "#import shap\n",
    "#import lime\n",
    "import sklearn \n",
    "import warnings\n",
    "#import xgboost\n",
    "\n",
    "import multiprocessing as mp\n",
    "import time\n",
    "import pickle \n",
    "#import interpret\n",
    "import collections\n",
    "import math\n",
    "import random\n",
    "from sklearn.linear_model import LogisticRegression\n",
    "from sklearn.linear_model import LinearRegression\n",
    "from sklearn.model_selection import train_test_split\n",
    "from sklearn.metrics import confusion_matrix\n",
    "from sklearn.metrics import accuracy_score\n",
    "from sklearn.metrics import f1_score\n",
    "from sklearn.ensemble import RandomForestClassifier\n",
    "from sklearn.ensemble import  RandomForestRegressor\n",
    "from sklearn.svm import SVC, LinearSVC\n",
    "from sklearn import preprocessing\n",
    "#from interpret.glassbox import ExplainableBoostingClassifier\n",
    "#from interpret import show\n",
    "from sklearn.preprocessing import LabelEncoder\n",
    "#from interpret.glassbox import ExplainableBoostingRegressor\n",
    "#from interpret import show\n",
    "from sklearn.ensemble import GradientBoostingRegressor\n",
    "from sklearn.ensemble import GradientBoostingClassifier\n",
    "from sklearn.tree import DecisionTreeClassifier\n",
    "\n",
    "from sklearn.ensemble import AdaBoostRegressor\n",
    "%matplotlib inline\n",
    "import os, sys\n",
    "#import statsmodels.api as sm\n",
    "sys.path.append(os.path.abspath(\"../../../\"))\n",
    "\n",
    "pd.set_option('display.max_columns', None)\n",
    "#import eli5\n",
    "#from eli5.sklearn import PermutationImportance\n",
    "\n"
   ]
  },
  {
   "cell_type": "code",
   "execution_count": 2,
   "metadata": {
    "collapsed": true
   },
   "outputs": [],
   "source": [
    "titanic = pd.read_csv('train.csv')\n",
    "#titanic\n",
    "full_data = titanic\n",
    "full_data = full_data.drop(['PassengerId'], axis=1)\n",
    "\n",
    "import re\n",
    "deck = {\"A\": 1, \"B\": 2, \"C\": 3, \"D\": 4, \"E\": 5, \"F\": 6, \"G\": 7, \"U\": 8}\n",
    "full_data['Cabin'] = full_data['Cabin'].fillna(\"U0\")\n",
    "full_data['Deck'] = full_data['Cabin'].map(lambda x: re.compile(\"([a-zA-Z]+)\").search(x).group())\n",
    "full_data['Deck'] = full_data['Deck'].map(deck)\n",
    "full_data['Deck'] = full_data['Deck'].fillna(0)\n",
    "full_data['Deck'] = full_data['Deck'].astype(int)\n",
    "\n",
    "full_data = full_data.drop('Cabin', axis = 1)\n",
    "\n",
    "mean = full_data[\"Age\"].mean()\n",
    "std = full_data[\"Age\"].std()\n",
    "is_null = full_data[\"Age\"].isnull().sum()\n",
    "# compute random numbers between the mean, std and is_null\n",
    "rand_age = np.random.randint(mean - std, mean + std, size = is_null)\n",
    "# fill NaN values in Age column with random values generated\n",
    "age_slice = full_data[\"Age\"].copy()\n",
    "age_slice[np.isnan(age_slice)] = rand_age\n",
    "full_data[\"Age\"] = age_slice\n",
    "full_data[\"Age\"] = full_data[\"Age\"].astype(int)\n",
    "full_data[\"Age\"].isnull().sum()\n",
    "full_data['Embarked'] = full_data['Embarked'].fillna('S')\n",
    "\n",
    "\n",
    "full_data['Fare'] = full_data['Fare'].fillna(0)\n",
    "full_data['Fare'] = full_data['Fare'].astype(int)\n",
    "full_data = full_data.drop(['Name'], axis=1)\n",
    "full_data = full_data.drop(['Ticket'], axis=1)\n",
    "full_data['Sex'] = full_data['Sex'].map({\"male\": 0, \"female\": 1})\n",
    "\n",
    "\n",
    "full_data_train,full_data_test = train_test_split(full_data,test_size = 0.3,random_state = 10)\n",
    "\n",
    "full_data = pd.get_dummies(full_data,columns = ['Pclass','Embarked','Deck'])\n",
    "full_data = full_data.dropna().reset_index().drop('index',axis = 1)\n",
    "X = full_data.drop('Survived',axis = 1)\n",
    "cols = X.columns\n",
    "y = full_data['Survived']\n",
    "scaler = preprocessing.StandardScaler()\n",
    "X = scaler.fit_transform(X)\n",
    "X =pd.DataFrame(X, columns = cols)\n",
    "xTrain, xTest, yTrain, yTest = train_test_split(X,y, test_size = 0.3,random_state = 10)\n"
   ]
  },
  {
   "cell_type": "markdown",
   "metadata": {},
   "source": [
    "https://scikit-learn.org/dev/auto_examples/tree/plot_unveil_tree_structure.html"
   ]
  },
  {
   "cell_type": "markdown",
   "metadata": {},
   "source": [
    "# Model"
   ]
  },
  {
   "cell_type": "code",
   "execution_count": 3,
   "metadata": {
    "collapsed": true
   },
   "outputs": [],
   "source": [
    "import itertools\n",
    "import gc"
   ]
  },
  {
   "cell_type": "code",
   "execution_count": 4,
   "metadata": {
    "collapsed": true
   },
   "outputs": [],
   "source": [
    "def get_node_depths(tree1):\n",
    "    def get_node_depths_(current_node, current_depth, l, r, depths):\n",
    "        depths += [current_depth]\n",
    "        if l[current_node] != -1 and r[current_node] != -1:\n",
    "            get_node_depths_(l[current_node], current_depth + 1, l, r, depths)\n",
    "            get_node_depths_(r[current_node], current_depth + 1, l, r, depths)\n",
    "    depths = []\n",
    "    get_node_depths_(0, 0, tree1.tree_.children_left, tree1.tree_.children_right, depths) \n",
    "    return np.array(depths)\n",
    "\n",
    "def get_shared_nodes(i1,i2,node_indicator, n_nodes):\n",
    "    sample_ids = [0, 1]\n",
    "    common_nodes = (node_indicator.toarray()[sample_ids].sum(axis=0) ==\n",
    "                len(sample_ids))\n",
    "\n",
    "    common_node_id = np.arange(n_nodes)[common_nodes]\n",
    "    return common_node_id\n",
    "\n",
    "# Tree distance between nodes n1, n2 = depth(n1) + depth(n2) - 2 depth(LCA)\n",
    "def distance_between_samples(indexes,depths,leaves,node_indicator,n_nodes):\n",
    "    i1 = indexes[0]\n",
    "    i2 = indexes[1]\n",
    "    leaf_node1 = leaves[i1]\n",
    "    leaf_node2 = leaves[i2]\n",
    "    depth_node1 = depths[leaf_node1]\n",
    "    depth_node2 = depths[leaf_node2]\n",
    "    ancestors = get_shared_nodes(i1,i2,node_indicator, n_nodes)\n",
    "    depth_LCA = max(depths[ancestors])\n",
    "    #depth_LCA = 0\n",
    "    dist = depth_node1 + depth_node2 - 2*depth_LCA\n",
    "    if dist < 0:\n",
    "        pass\n",
    "        #print(len(depths))\n",
    "        #depths[ancestors]\n",
    "    return dist"
   ]
  },
  {
   "cell_type": "code",
   "execution_count": null,
   "metadata": {
    "collapsed": true
   },
   "outputs": [],
   "source": [
    "# bootstraps data and builds a tree, then calculates pairwise distances on the data instances relative to the tree\n",
    "# Tree distance is calculated via lowest common ancestor\n",
    "def build_tree(xTrain,yTrain,xTest):\n",
    "    train = xTrain.copy()\n",
    "    train['y'] = yTrain\n",
    "    train1 = train.sample(n = len(train), replace = True) \n",
    "    yTrain1 = train1['y']\n",
    "    xTrain1 = train1.drop('y',axis = 1)\n",
    "    gc.collect()\n",
    "    estimator = DecisionTreeClassifier().fit(xTrain1,yTrain1)\n",
    "    n_nodes = estimator.tree_.node_count\n",
    "    depths = get_node_depths(estimator)\n",
    "    leaves_train = estimator.apply(xTrain)\n",
    "    leaves_test = estimator.apply(xTest)\n",
    "    node_indicator_test = estimator.decision_path(xTest)\n",
    "    node_indicator_train = estimator.decision_path(xTrain)\n",
    "    train_comb = list(itertools.combinations(range(0,len(xTrain)), 2))\n",
    "    test_comb = list(itertools.combinations(range(0,len(xTest)), 2))\n",
    "\n",
    "    ### Train Distances\n",
    "    train_distances = []\n",
    "    for indexes in train_comb:\n",
    "        dist = distance_between_samples(indexes,depths,leaves_train,node_indicator_train,n_nodes)\n",
    "        train_distances.append([indexes[0],indexes[1],dist])\n",
    "\n",
    "    ### Test Distances\n",
    "    test_distances = []\n",
    "    for indexes in test_comb:\n",
    "        dist = distance_between_samples(indexes,depths,leaves_train,node_indicator_test,n_nodes)\n",
    "        test_distances.append([indexes[0],indexes[1],dist])\n",
    "\n",
    "    train_dist_df = pd.DataFrame(train_distances, columns = ['i1','i2','tree_dist'])\n",
    "    test_dist_df = pd.DataFrame(test_distances, columns = ['i1','i2','tree_dist'])\n",
    "    return([estimator,train_dist_df,test_dist_df, train_comb])"
   ]
  },
  {
   "cell_type": "code",
   "execution_count": 60,
   "metadata": {
    "collapsed": true
   },
   "outputs": [],
   "source": [
    "def floyd_warshall(G):\n",
    "    nV = len(G)\n",
    "    distance = list(map(lambda i: list(map(lambda j: j, i)), G))\n",
    "\n",
    "    # Adding vertices individually\n",
    "    for k in range(nV):\n",
    "        for i in range(nV):\n",
    "            for j in range(nV):\n",
    "                distance[i][j] = min(distance[i][j], distance[i][k] + distance[k][j])\n",
    "    return distance"
   ]
  },
  {
   "cell_type": "code",
   "execution_count": 61,
   "metadata": {
    "collapsed": true
   },
   "outputs": [],
   "source": [
    "def get_tree_dists(estimator):\n",
    "    n_nodes = estimator.tree_.node_count\n",
    "    children_left = estimator.tree_.children_left\n",
    "    children_right = estimator.tree_.children_right\n",
    "\n",
    "    dists = np.zeros((n_nodes,n_nodes)) \n",
    "    for i in range(len(children_left)):\n",
    "        left_node_id = children_left[i]\n",
    "        if left_node_id != -1:\n",
    "            dists[i][left_node_id] = 1\n",
    "            dists[left_node_id][i] = 1\n",
    "\n",
    "    for i in range(len(children_right)):\n",
    "        if children_right[i] != -1:\n",
    "            dists[i][children_right[i]] = 1\n",
    "            dists[children_right[i]][i] = 1\n",
    "\n",
    "    for i in range(n_nodes):\n",
    "        for j in range(n_nodes):\n",
    "            if i != j and dists[i][j] == 0:\n",
    "                dists[i][j] = 1000 # equivalent to infinity because we need distances between ALL ndoes\n",
    "    return dists"
   ]
  },
  {
   "cell_type": "code",
   "execution_count": 66,
   "metadata": {
    "collapsed": true
   },
   "outputs": [],
   "source": [
    "# bootstraps data and builds a tree, then calculates pairwise distances on the data instances relative to the tree\n",
    "# Tree distance is calculated via lowest common ancestor\n",
    "def build_tree_fw(xTrain,yTrain,xTest):\n",
    "    train = xTrain.copy()\n",
    "    train['y'] = yTrain\n",
    "    train1 = train.sample(n = len(train), replace = True) \n",
    "    yTrain1 = train1['y']\n",
    "    xTrain1 = train1.drop('y',axis = 1)\n",
    "    gc.collect()\n",
    "    estimator = DecisionTreeClassifier().fit(xTrain1,yTrain1)\n",
    "    n_nodes = estimator.tree_.node_count\n",
    "    depths = get_node_depths(estimator)\n",
    "    leaves_train = estimator.apply(xTrain)\n",
    "    leaves_test = estimator.apply(xTest)\n",
    "    graph = get_tree_dists(estimator)\n",
    "    node_indicator_test = estimator.decision_path(xTest)\n",
    "    node_indicator_train = estimator.decision_path(xTrain)\n",
    "    train_comb = list(itertools.combinations(range(0,len(xTrain)), 2))\n",
    "    test_comb = list(itertools.combinations(range(0,len(xTest)), 2))\n",
    "    dense_path_train = node_indicator_train.toarray()\n",
    "    graph_train = np.dot(np.transpose(dense_path_train), dense_path_train) #wrong, we want to traverse tree to get distance matrix \n",
    "    fw_dist_train = floyd_warshall(graph)\n",
    "    dense_path_test = node_indicator_test.toarray()\n",
    "    graph_test = np.dot(np.transpose(dense_path_test), dense_path_test) #wrong\n",
    "    fw_dist_test = floyd_warshall(graph)\n",
    "    \n",
    "    i1_train = [i for i, _ in train_comb]\n",
    "    i2_train = [i for _, i in train_comb]\n",
    "    train_dists = [fw_dist_train[leaves_train[i]][leaves_train[j]] for i, j in train_comb]\n",
    "    train_dist_df = pd.DataFrame(i1_train,columns=['i1'])\n",
    "    train_dist_df['i2'] = i2_train\n",
    "    train_dist_df['tree_dist'] = train_dists\n",
    "    \n",
    "    i1_test = [i for i, _ in test_comb]\n",
    "    i2_test = [i for _, i in test_comb]\n",
    "    test_dists = [fw_dist_test[leaves_test[i]][leaves_test[j]] for i, j in test_comb]\n",
    "    test_dist_df = pd.DataFrame(i1_test,columns=['i1'])\n",
    "    test_dist_df['i2'] = i2_test\n",
    "    test_dist_df['tree_dist'] = test_dists\n",
    "    \n",
    "    return([estimator,train_dist_df, test_dist_df])"
   ]
  },
  {
   "cell_type": "code",
   "execution_count": 68,
   "metadata": {
    "collapsed": true
   },
   "outputs": [],
   "source": [
    "def fit_random_forest(xTrain,yTrain,num_trees,xTest):\n",
    "    i = 0\n",
    "    mods = []\n",
    "    train_dists = pd.DataFrame()\n",
    "    test_dists = pd.DataFrame()\n",
    "    while i <= num_trees:\n",
    "        tree = build_tree_fw(xTrain,yTrain,xTest)\n",
    "        mods.append(tree[0])\n",
    "        train_dists = train_dists.append(tree[1])\n",
    "        test_dists = test_dists.append(tree[2])\n",
    "        i = i+1\n",
    "        \n",
    "    train_final_dist = train_dists.groupby(['i1','i2']).mean().reset_index()\n",
    "    test_final_dist = test_dists.groupby(['i1','i2']).mean().reset_index()\n",
    "    return(mods,train_final_dist,test_final_dist)\n",
    "\n",
    "def rf_predict(xTest,mods):\n",
    "    pred = []\n",
    "    for clf in mods:\n",
    "        pred.append(clf.predict(xTest))\n",
    "    pred = np.mean(pred,axis = 0)\n",
    "    pred = [int(x) for x in pred>=0.5]\n",
    "    return pred"
   ]
  },
  {
   "cell_type": "code",
   "execution_count": 69,
   "metadata": {
    "collapsed": true
   },
   "outputs": [],
   "source": [
    "def rf_predict(xTest,mods):\n",
    "    pred = []\n",
    "    for clf in mods:\n",
    "        pred.append(clf.predict(xTest))\n",
    "    pred = np.mean(pred,axis = 0)\n",
    "    pred = [int(x) for x in pred>=0.5]\n",
    "    return pred\n"
   ]
  },
  {
   "cell_type": "code",
   "execution_count": 70,
   "metadata": {
    "collapsed": true,
    "scrolled": true
   },
   "outputs": [],
   "source": [
    "mods,train_final_dist,test_final_dist = fit_random_forest(xTrain,yTrain,100,xTest)"
   ]
  },
  {
   "cell_type": "code",
   "execution_count": 71,
   "metadata": {
    "collapsed": true
   },
   "outputs": [],
   "source": [
    "train_final_dist = train_final_dist.groupby(['i1','i2']).mean().reset_index()\n",
    "test_final_dist = test_final_dist.groupby(['i1','i2']).mean().reset_index()"
   ]
  },
  {
   "cell_type": "code",
   "execution_count": 72,
   "metadata": {},
   "outputs": [
    {
     "name": "stdout",
     "output_type": "stream",
     "text": [
      "0.8059701492537313\n"
     ]
    }
   ],
   "source": [
    "pred = rf_predict(xTest,mods)\n",
    "print(np.mean(pred==yTest))"
   ]
  },
  {
   "cell_type": "code",
   "execution_count": 73,
   "metadata": {
    "collapsed": true
   },
   "outputs": [],
   "source": [
    "#test_final_dist1"
   ]
  },
  {
   "cell_type": "code",
   "execution_count": 74,
   "metadata": {
    "collapsed": true
   },
   "outputs": [],
   "source": [
    "test_final_dist1 = test_final_dist.copy()\n",
    "test_final_dist1['i1'] = test_final_dist['i2']\n",
    "test_final_dist1['i2'] = test_final_dist['i1']\n",
    "test_final_dist = test_final_dist.append(test_final_dist1)"
   ]
  },
  {
   "cell_type": "code",
   "execution_count": 75,
   "metadata": {
    "collapsed": true
   },
   "outputs": [],
   "source": [
    "dist = np.zeros(shape = (max(test_final_dist['i1'])+1,max(test_final_dist['i1'])+1))\n",
    "for i in range(0,len(test_final_dist)):\n",
    "    temp = test_final_dist.iloc[i]\n",
    "    i1 = int(temp['i1'])\n",
    "    i2 = int(temp['i2'])\n",
    "    tree_dist = temp['tree_dist']\n",
    "    dist[i1][i2] = tree_dist"
   ]
  },
  {
   "cell_type": "code",
   "execution_count": 76,
   "metadata": {},
   "outputs": [
    {
     "data": {
      "text/plain": [
       "array([[ 0.        ,  9.91089109,  9.        , ..., 16.37623762,\n",
       "        19.64356436, 17.37623762],\n",
       "       [ 9.91089109,  0.        ,  7.68316832, ..., 18.74257426,\n",
       "        22.00990099, 19.74257426],\n",
       "       [ 9.        ,  7.68316832,  0.        , ..., 19.61386139,\n",
       "        22.88118812, 20.61386139],\n",
       "       ...,\n",
       "       [16.37623762, 18.74257426, 19.61386139, ...,  0.        ,\n",
       "         7.64356436,  7.        ],\n",
       "       [19.64356436, 22.00990099, 22.88118812, ...,  7.64356436,\n",
       "         0.        ,  7.25742574],\n",
       "       [17.37623762, 19.74257426, 20.61386139, ...,  7.        ,\n",
       "         7.25742574,  0.        ]])"
      ]
     },
     "execution_count": 76,
     "metadata": {},
     "output_type": "execute_result"
    }
   ],
   "source": [
    "dist"
   ]
  },
  {
   "cell_type": "code",
   "execution_count": 77,
   "metadata": {},
   "outputs": [
    {
     "name": "stderr",
     "output_type": "stream",
     "text": [
      "/Users/aparnacalambur/anaconda/lib/python3.6/site-packages/scipy/cluster/hierarchy.py:830: ClusterWarning: scipy.cluster: The symmetric non-negative hollow observation matrix looks suspiciously like an uncondensed distance matrix\n",
      "  return linkage(y, method='ward', metric='euclidean')\n"
     ]
    }
   ],
   "source": [
    "from sklearn.cluster import AgglomerativeClustering\n",
    "clustering = AgglomerativeClustering(n_clusters = 3).fit(dist)"
   ]
  },
  {
   "cell_type": "code",
   "execution_count": 78,
   "metadata": {},
   "outputs": [
    {
     "name": "stderr",
     "output_type": "stream",
     "text": [
      "/Users/aparnacalambur/anaconda/lib/python3.6/site-packages/ipykernel_launcher.py:1: SettingWithCopyWarning: \n",
      "A value is trying to be set on a copy of a slice from a DataFrame.\n",
      "Try using .loc[row_indexer,col_indexer] = value instead\n",
      "\n",
      "See the caveats in the documentation: https://pandas.pydata.org/pandas-docs/stable/user_guide/indexing.html#returning-a-view-versus-a-copy\n",
      "  \"\"\"Entry point for launching an IPython kernel.\n"
     ]
    }
   ],
   "source": [
    "xTest['clust'] = clustering.labels_"
   ]
  },
  {
   "cell_type": "code",
   "execution_count": 79,
   "metadata": {
    "collapsed": true
   },
   "outputs": [],
   "source": [
    "clusters = pd.DataFrame(np.column_stack((yTest,clustering.labels_)),columns = ['y','clust'])"
   ]
  },
  {
   "cell_type": "code",
   "execution_count": 80,
   "metadata": {},
   "outputs": [
    {
     "data": {
      "text/html": [
       "<div>\n",
       "<style scoped>\n",
       "    .dataframe tbody tr th:only-of-type {\n",
       "        vertical-align: middle;\n",
       "    }\n",
       "\n",
       "    .dataframe tbody tr th {\n",
       "        vertical-align: top;\n",
       "    }\n",
       "\n",
       "    .dataframe thead th {\n",
       "        text-align: right;\n",
       "    }\n",
       "</style>\n",
       "<table border=\"1\" class=\"dataframe\">\n",
       "  <thead>\n",
       "    <tr style=\"text-align: right;\">\n",
       "      <th></th>\n",
       "      <th>y</th>\n",
       "    </tr>\n",
       "    <tr>\n",
       "      <th>clust</th>\n",
       "      <th></th>\n",
       "    </tr>\n",
       "  </thead>\n",
       "  <tbody>\n",
       "    <tr>\n",
       "      <th>0</th>\n",
       "      <td>0.738636</td>\n",
       "    </tr>\n",
       "    <tr>\n",
       "      <th>1</th>\n",
       "      <td>0.067797</td>\n",
       "    </tr>\n",
       "    <tr>\n",
       "      <th>2</th>\n",
       "      <td>0.338710</td>\n",
       "    </tr>\n",
       "  </tbody>\n",
       "</table>\n",
       "</div>"
      ],
      "text/plain": [
       "              y\n",
       "clust          \n",
       "0      0.738636\n",
       "1      0.067797\n",
       "2      0.338710"
      ]
     },
     "execution_count": 80,
     "metadata": {},
     "output_type": "execute_result"
    }
   ],
   "source": [
    "clusters.groupby('clust').mean()"
   ]
  },
  {
   "cell_type": "code",
   "execution_count": 81,
   "metadata": {},
   "outputs": [
    {
     "data": {
      "text/plain": [
       "array([0, 1, 2])"
      ]
     },
     "execution_count": 81,
     "metadata": {},
     "output_type": "execute_result"
    }
   ],
   "source": [
    "full_data_test['clust'] = clustering.labels_\n",
    "clusters = np.unique(clustering.labels_)\n",
    "clusters"
   ]
  },
  {
   "cell_type": "code",
   "execution_count": 82,
   "metadata": {
    "scrolled": false
   },
   "outputs": [
    {
     "name": "stdout",
     "output_type": "stream",
     "text": [
      "0.7386363636363636\n",
      "0.06779661016949153\n",
      "0.3387096774193548\n"
     ]
    },
    {
     "data": {
      "image/png": "[encoded data removed]",
      "text/plain": [
       "<Figure size 432x288 with 1 Axes>"
      ]
     },
     "metadata": {},
     "output_type": "display_data"
    },
    {
     "data": {
      "image/png": "[encoded data removed]",
      "text/plain": [
       "<Figure size 432x288 with 1 Axes>"
      ]
     },
     "metadata": {},
     "output_type": "display_data"
    },
    {
     "data": {
      "image/png": "[encoded data removed]",
      "text/plain": [
       "<Figure size 432x288 with 1 Axes>"
      ]
     },
     "metadata": {},
     "output_type": "display_data"
    },
    {
     "data": {
      "image/png": "[encoded data removed]",
      "text/plain": [
       "<Figure size 432x288 with 1 Axes>"
      ]
     },
     "metadata": {},
     "output_type": "display_data"
    },
    {
     "data": {
      "image/png": "[encoded data removed]",
      "text/plain": [
       "<Figure size 432x288 with 1 Axes>"
      ]
     },
     "metadata": {},
     "output_type": "display_data"
    },
    {
     "data": {
      "image/png": "[encoded data removed]",
      "text/plain": [
       "<Figure size 432x288 with 1 Axes>"
      ]
     },
     "metadata": {},
     "output_type": "display_data"
    },
    {
     "data": {
      "image/png": "[encoded data removed]",
      "text/plain": [
       "<Figure size 432x288 with 1 Axes>"
      ]
     },
     "metadata": {},
     "output_type": "display_data"
    },
    {
     "data": {
      "image/png": "[encoded data removed]",
      "text/plain": [
       "<Figure size 432x288 with 1 Axes>"
      ]
     },
     "metadata": {},
     "output_type": "display_data"
    },
    {
     "data": {
      "image/png": "[encoded data removed]",
      "text/plain": [
       "<Figure size 432x288 with 1 Axes>"
      ]
     },
     "metadata": {},
     "output_type": "display_data"
    }
   ],
   "source": [
    "for clust in clusters:\n",
    "    temp = full_data_test[full_data_test['clust']==clust]\n",
    "    print(np.mean(temp['Survived']))\n",
    "    plt.figure()\n",
    "    plt.title('cluster '+str(clust)+ ' Pclass')\n",
    "    plt.hist(temp['Pclass'])\n",
    "    plt.figure()\n",
    "    plt.title('cluster '+str(clust)+ ' Sex')\n",
    "    plt.hist(temp['Sex'])\n",
    "    plt.figure()\n",
    "    plt.title('cluster '+str(clust)+ ' Age')\n",
    "    plt.hist(temp['Age'])"
   ]
  },
  {
   "cell_type": "code",
   "execution_count": 83,
   "metadata": {},
   "outputs": [
    {
     "data": {
      "text/html": [
       "<div>\n",
       "<style scoped>\n",
       "    .dataframe tbody tr th:only-of-type {\n",
       "        vertical-align: middle;\n",
       "    }\n",
       "\n",
       "    .dataframe tbody tr th {\n",
       "        vertical-align: top;\n",
       "    }\n",
       "\n",
       "    .dataframe thead th {\n",
       "        text-align: right;\n",
       "    }\n",
       "</style>\n",
       "<table border=\"1\" class=\"dataframe\">\n",
       "  <thead>\n",
       "    <tr style=\"text-align: right;\">\n",
       "      <th></th>\n",
       "      <th>Survived</th>\n",
       "      <th>Pclass</th>\n",
       "      <th>Sex</th>\n",
       "      <th>Age</th>\n",
       "      <th>SibSp</th>\n",
       "      <th>Parch</th>\n",
       "      <th>Fare</th>\n",
       "      <th>Embarked</th>\n",
       "      <th>Deck</th>\n",
       "      <th>clust</th>\n",
       "    </tr>\n",
       "  </thead>\n",
       "  <tbody>\n",
       "  </tbody>\n",
       "</table>\n",
       "</div>"
      ],
      "text/plain": [
       "Empty DataFrame\n",
       "Columns: [Survived, Pclass, Sex, Age, SibSp, Parch, Fare, Embarked, Deck, clust]\n",
       "Index: []"
      ]
     },
     "execution_count": 83,
     "metadata": {},
     "output_type": "execute_result"
    }
   ],
   "source": [
    "full_data_test['clust'] = clustering.labels_\n",
    "full_data_test[full_data_test['clust']==3]"
   ]
  },
  {
   "cell_type": "code",
   "execution_count": 84,
   "metadata": {},
   "outputs": [
    {
     "data": {
      "text/html": [
       "<div>\n",
       "<style scoped>\n",
       "    .dataframe tbody tr th:only-of-type {\n",
       "        vertical-align: middle;\n",
       "    }\n",
       "\n",
       "    .dataframe tbody tr th {\n",
       "        vertical-align: top;\n",
       "    }\n",
       "\n",
       "    .dataframe thead th {\n",
       "        text-align: right;\n",
       "    }\n",
       "</style>\n",
       "<table border=\"1\" class=\"dataframe\">\n",
       "  <thead>\n",
       "    <tr style=\"text-align: right;\">\n",
       "      <th></th>\n",
       "      <th>i1</th>\n",
       "      <th>i2</th>\n",
       "      <th>tree_dist</th>\n",
       "    </tr>\n",
       "  </thead>\n",
       "  <tbody>\n",
       "    <tr>\n",
       "      <th>0</th>\n",
       "      <td>0</td>\n",
       "      <td>1</td>\n",
       "      <td>9.910891</td>\n",
       "    </tr>\n",
       "    <tr>\n",
       "      <th>1</th>\n",
       "      <td>0</td>\n",
       "      <td>2</td>\n",
       "      <td>9.000000</td>\n",
       "    </tr>\n",
       "    <tr>\n",
       "      <th>2</th>\n",
       "      <td>0</td>\n",
       "      <td>3</td>\n",
       "      <td>15.138614</td>\n",
       "    </tr>\n",
       "    <tr>\n",
       "      <th>3</th>\n",
       "      <td>0</td>\n",
       "      <td>4</td>\n",
       "      <td>15.158416</td>\n",
       "    </tr>\n",
       "    <tr>\n",
       "      <th>4</th>\n",
       "      <td>0</td>\n",
       "      <td>5</td>\n",
       "      <td>12.089109</td>\n",
       "    </tr>\n",
       "    <tr>\n",
       "      <th>...</th>\n",
       "      <td>...</td>\n",
       "      <td>...</td>\n",
       "      <td>...</td>\n",
       "    </tr>\n",
       "    <tr>\n",
       "      <th>35773</th>\n",
       "      <td>266</td>\n",
       "      <td>264</td>\n",
       "      <td>9.128713</td>\n",
       "    </tr>\n",
       "    <tr>\n",
       "      <th>35774</th>\n",
       "      <td>267</td>\n",
       "      <td>264</td>\n",
       "      <td>7.356436</td>\n",
       "    </tr>\n",
       "    <tr>\n",
       "      <th>35775</th>\n",
       "      <td>266</td>\n",
       "      <td>265</td>\n",
       "      <td>7.643564</td>\n",
       "    </tr>\n",
       "    <tr>\n",
       "      <th>35776</th>\n",
       "      <td>267</td>\n",
       "      <td>265</td>\n",
       "      <td>7.000000</td>\n",
       "    </tr>\n",
       "    <tr>\n",
       "      <th>35777</th>\n",
       "      <td>267</td>\n",
       "      <td>266</td>\n",
       "      <td>7.257426</td>\n",
       "    </tr>\n",
       "  </tbody>\n",
       "</table>\n",
       "<p>71556 rows × 3 columns</p>\n",
       "</div>"
      ],
      "text/plain": [
       "        i1   i2  tree_dist\n",
       "0        0    1   9.910891\n",
       "1        0    2   9.000000\n",
       "2        0    3  15.138614\n",
       "3        0    4  15.158416\n",
       "4        0    5  12.089109\n",
       "...    ...  ...        ...\n",
       "35773  266  264   9.128713\n",
       "35774  267  264   7.356436\n",
       "35775  266  265   7.643564\n",
       "35776  267  265   7.000000\n",
       "35777  267  266   7.257426\n",
       "\n",
       "[71556 rows x 3 columns]"
      ]
     },
     "execution_count": 84,
     "metadata": {},
     "output_type": "execute_result"
    }
   ],
   "source": [
    "(test_final_dist)"
   ]
  },
  {
   "cell_type": "code",
   "execution_count": 85,
   "metadata": {},
   "outputs": [
    {
     "data": {
      "text/html": [
       "<div>\n",
       "<style scoped>\n",
       "    .dataframe tbody tr th:only-of-type {\n",
       "        vertical-align: middle;\n",
       "    }\n",
       "\n",
       "    .dataframe tbody tr th {\n",
       "        vertical-align: top;\n",
       "    }\n",
       "\n",
       "    .dataframe thead th {\n",
       "        text-align: right;\n",
       "    }\n",
       "</style>\n",
       "<table border=\"1\" class=\"dataframe\">\n",
       "  <thead>\n",
       "    <tr style=\"text-align: right;\">\n",
       "      <th></th>\n",
       "      <th>Survived</th>\n",
       "      <th>Pclass</th>\n",
       "      <th>Sex</th>\n",
       "      <th>Age</th>\n",
       "      <th>SibSp</th>\n",
       "      <th>Parch</th>\n",
       "      <th>Fare</th>\n",
       "      <th>Embarked</th>\n",
       "      <th>Deck</th>\n",
       "      <th>clust</th>\n",
       "    </tr>\n",
       "  </thead>\n",
       "  <tbody>\n",
       "    <tr>\n",
       "      <th>590</th>\n",
       "      <td>0</td>\n",
       "      <td>3</td>\n",
       "      <td>0</td>\n",
       "      <td>35</td>\n",
       "      <td>0</td>\n",
       "      <td>0</td>\n",
       "      <td>7</td>\n",
       "      <td>S</td>\n",
       "      <td>8</td>\n",
       "      <td>1</td>\n",
       "    </tr>\n",
       "    <tr>\n",
       "      <th>131</th>\n",
       "      <td>0</td>\n",
       "      <td>3</td>\n",
       "      <td>0</td>\n",
       "      <td>20</td>\n",
       "      <td>0</td>\n",
       "      <td>0</td>\n",
       "      <td>7</td>\n",
       "      <td>S</td>\n",
       "      <td>8</td>\n",
       "      <td>1</td>\n",
       "    </tr>\n",
       "    <tr>\n",
       "      <th>628</th>\n",
       "      <td>0</td>\n",
       "      <td>3</td>\n",
       "      <td>0</td>\n",
       "      <td>26</td>\n",
       "      <td>0</td>\n",
       "      <td>0</td>\n",
       "      <td>7</td>\n",
       "      <td>S</td>\n",
       "      <td>8</td>\n",
       "      <td>1</td>\n",
       "    </tr>\n",
       "    <tr>\n",
       "      <th>195</th>\n",
       "      <td>1</td>\n",
       "      <td>1</td>\n",
       "      <td>1</td>\n",
       "      <td>58</td>\n",
       "      <td>0</td>\n",
       "      <td>0</td>\n",
       "      <td>146</td>\n",
       "      <td>C</td>\n",
       "      <td>2</td>\n",
       "      <td>0</td>\n",
       "    </tr>\n",
       "    <tr>\n",
       "      <th>230</th>\n",
       "      <td>1</td>\n",
       "      <td>1</td>\n",
       "      <td>1</td>\n",
       "      <td>35</td>\n",
       "      <td>1</td>\n",
       "      <td>0</td>\n",
       "      <td>83</td>\n",
       "      <td>S</td>\n",
       "      <td>3</td>\n",
       "      <td>0</td>\n",
       "    </tr>\n",
       "    <tr>\n",
       "      <th>...</th>\n",
       "      <td>...</td>\n",
       "      <td>...</td>\n",
       "      <td>...</td>\n",
       "      <td>...</td>\n",
       "      <td>...</td>\n",
       "      <td>...</td>\n",
       "      <td>...</td>\n",
       "      <td>...</td>\n",
       "      <td>...</td>\n",
       "      <td>...</td>\n",
       "    </tr>\n",
       "    <tr>\n",
       "      <th>318</th>\n",
       "      <td>1</td>\n",
       "      <td>1</td>\n",
       "      <td>1</td>\n",
       "      <td>31</td>\n",
       "      <td>0</td>\n",
       "      <td>2</td>\n",
       "      <td>164</td>\n",
       "      <td>S</td>\n",
       "      <td>3</td>\n",
       "      <td>0</td>\n",
       "    </tr>\n",
       "    <tr>\n",
       "      <th>863</th>\n",
       "      <td>0</td>\n",
       "      <td>3</td>\n",
       "      <td>1</td>\n",
       "      <td>31</td>\n",
       "      <td>8</td>\n",
       "      <td>2</td>\n",
       "      <td>69</td>\n",
       "      <td>S</td>\n",
       "      <td>8</td>\n",
       "      <td>0</td>\n",
       "    </tr>\n",
       "    <tr>\n",
       "      <th>254</th>\n",
       "      <td>0</td>\n",
       "      <td>3</td>\n",
       "      <td>1</td>\n",
       "      <td>41</td>\n",
       "      <td>0</td>\n",
       "      <td>2</td>\n",
       "      <td>20</td>\n",
       "      <td>S</td>\n",
       "      <td>8</td>\n",
       "      <td>0</td>\n",
       "    </tr>\n",
       "    <tr>\n",
       "      <th>396</th>\n",
       "      <td>0</td>\n",
       "      <td>3</td>\n",
       "      <td>1</td>\n",
       "      <td>31</td>\n",
       "      <td>0</td>\n",
       "      <td>0</td>\n",
       "      <td>7</td>\n",
       "      <td>S</td>\n",
       "      <td>8</td>\n",
       "      <td>0</td>\n",
       "    </tr>\n",
       "    <tr>\n",
       "      <th>358</th>\n",
       "      <td>1</td>\n",
       "      <td>3</td>\n",
       "      <td>1</td>\n",
       "      <td>30</td>\n",
       "      <td>0</td>\n",
       "      <td>0</td>\n",
       "      <td>7</td>\n",
       "      <td>Q</td>\n",
       "      <td>8</td>\n",
       "      <td>0</td>\n",
       "    </tr>\n",
       "  </tbody>\n",
       "</table>\n",
       "<p>268 rows × 10 columns</p>\n",
       "</div>"
      ],
      "text/plain": [
       "     Survived  Pclass  Sex  Age  SibSp  Parch  Fare Embarked  Deck  clust\n",
       "590         0       3    0   35      0      0     7        S     8      1\n",
       "131         0       3    0   20      0      0     7        S     8      1\n",
       "628         0       3    0   26      0      0     7        S     8      1\n",
       "195         1       1    1   58      0      0   146        C     2      0\n",
       "230         1       1    1   35      1      0    83        S     3      0\n",
       "..        ...     ...  ...  ...    ...    ...   ...      ...   ...    ...\n",
       "318         1       1    1   31      0      2   164        S     3      0\n",
       "863         0       3    1   31      8      2    69        S     8      0\n",
       "254         0       3    1   41      0      2    20        S     8      0\n",
       "396         0       3    1   31      0      0     7        S     8      0\n",
       "358         1       3    1   30      0      0     7        Q     8      0\n",
       "\n",
       "[268 rows x 10 columns]"
      ]
     },
     "execution_count": 85,
     "metadata": {},
     "output_type": "execute_result"
    }
   ],
   "source": [
    "full_data_test"
   ]
  },
  {
   "cell_type": "code",
   "execution_count": 86,
   "metadata": {
    "collapsed": true
   },
   "outputs": [],
   "source": [
    "train_final_dist.to_csv(\"train_final_dist.csv\")\n",
    "test_final_dist.to_csv(\"test_final_dist.csv\")\n",
    "full_data_test.to_csv(\"full_data_test.csv\")"
   ]
  },
  {
   "cell_type": "code",
   "execution_count": 87,
   "metadata": {
    "collapsed": true
   },
   "outputs": [],
   "source": [
    "full_data_train.to_csv(\"full_data_train.csv\")"
   ]
  },
  {
   "cell_type": "code",
   "execution_count": null,
   "metadata": {
    "collapsed": true
   },
   "outputs": [],
   "source": [
    "# pre-set clusters: k-means, tree distance, re-run test metric \n",
    "# k-mediods, not pure euclidean distance\n",
    "# evalutaion process: for each test point, we know each cluster it should be in\n",
    "# so we are treating cluster as like classification \n",
    "# use the cluster id to deterministically determine \n",
    "# treat as prediction/classification problem, as bi-product you get a cluster \n",
    "# mainly prediction, assuming predictions come from clusters \n",
    "# with more clusters, should overfit \n",
    "#CV to choose clusters, out of bag ideas for random forest \n",
    "# fit 1 forest and fit training set into bag, see which remain and lasso each of those\n",
    "# no lasso here ??????\n",
    "# ask brian what the clustering he's looking at does "
   ]
  }
 ],
 "metadata": {
  "kernelspec": {
   "display_name": "Python 3",
   "language": "python",
   "name": "python3"
  },
  "language_info": {
   "codemirror_mode": {
    "name": "ipython",
    "version": 3
   },
   "file_extension": ".py",
   "mimetype": "text/x-python",
   "name": "python",
   "nbconvert_exporter": "python",
   "pygments_lexer": "ipython3",
   "version": "3.6.1"
  }
 },
 "nbformat": 4,
 "nbformat_minor": 4
}
